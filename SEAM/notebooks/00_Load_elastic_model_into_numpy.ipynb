{
 "cells": [
  {
   "cell_type": "markdown",
   "metadata": {},
   "source": [
    "**SEAM I Elastic Model Open Data: Building Synthetic Seismic**\n",
    "============================================\n",
    "\n",
    "This notebook set takes the the elastic model and create synthetic prestack seismic data."
   ]
  },
  {
   "cell_type": "markdown",
   "metadata": {},
   "source": [
    "## **Load the Elastic Model**\n",
    "\n",
    "This section:\n",
    "\n",
    " - Loads the segy into numpy\n",
    " - Saves the elastic model as npy files\n",
    " - Plots the elastic model"
   ]
  },
  {
   "cell_type": "code",
   "execution_count": null,
   "metadata": {},
   "outputs": [],
   "source": [
    "#   Imports\n",
    "\n",
    "import numpy as np\n",
    "import matplotlib.pyplot as plt\n",
    "\n",
    "import segyio"
   ]
  },
  {
   "cell_type": "code",
   "execution_count": null,
   "metadata": {},
   "outputs": [],
   "source": [
    "#   Load Vp, Vs, & Rho into numpy using segyio\n",
    "\n",
    "with segyio.open('model/sgy/Vp_time_ms.sgy', strict=False) as s:\n",
    "    Vp = np.stack(t.astype(np.float) for t in s.trace)\n",
    "    \n",
    "with segyio.open('model/sgy/Vs_time_ms.sgy', strict=False) as s:\n",
    "    Vs = np.stack(t.astype(np.float) for t in s.trace)\n",
    "    \n",
    "with segyio.open('model/sgy/Rho_time_kgmcube.sgy', strict=False) as s:\n",
    "    Rho = np.stack(t.astype(np.float) for t in s.trace)"
   ]
  },
  {
   "cell_type": "code",
   "execution_count": null,
   "metadata": {},
   "outputs": [],
   "source": [
    "#   Save as npy for convinence\n",
    "\n",
    "np.save(arr=Vp, file='model/npy/Vp_time_ms.npy')\n",
    "np.save(arr=Vs, file='model/npy/Vs_time_ms.npy')\n",
    "np.save(arr=Rho, file='model/npy/Rho_time_kgmcube.npy')"
   ]
  },
  {
   "cell_type": "code",
   "execution_count": null,
   "metadata": {},
   "outputs": [],
   "source": [
    "#   Plot to QC\n",
    "\n",
    "plt.figure(1, figsize=(20, 20))\n",
    "\n",
    "plt.subplot(131)\n",
    "plt.imshow(Vp.T, cmap='plasma', aspect=.8)\n",
    "plt.colorbar(shrink=.5)\n",
    "plt.title('Vp m/s')\n",
    "\n",
    "plt.subplot(132)\n",
    "plt.imshow(Vs.T, cmap='plasma', aspect=.8)\n",
    "plt.colorbar(shrink=.5)\n",
    "plt.title('Vs m/s')\n",
    "\n",
    "plt.subplot(133)\n",
    "plt.imshow(Rho.T, aspect=.8)\n",
    "plt.colorbar(shrink=.5)\n",
    "plt.title('Rho kg/m^3')"
   ]
  }
 ],
 "metadata": {
  "kernelspec": {
   "display_name": "Python 3",
   "language": "python",
   "name": "python3"
  },
  "language_info": {
   "codemirror_mode": {
    "name": "ipython",
    "version": 3
   },
   "file_extension": ".py",
   "mimetype": "text/x-python",
   "name": "python",
   "nbconvert_exporter": "python",
   "pygments_lexer": "ipython3",
   "version": "3.6.6"
  }
 },
 "nbformat": 4,
 "nbformat_minor": 2
}
