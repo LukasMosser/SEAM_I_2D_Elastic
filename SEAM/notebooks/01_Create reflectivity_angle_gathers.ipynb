{
 "cells": [
  {
   "cell_type": "markdown",
   "metadata": {},
   "source": [
    "**SEAM I Elastic Model Open Data: Building Synthetic Seismic**\n",
    "============================================\n",
    "\n",
    "This notebook set takes the the elastic model and create synthetic prestack seismic data."
   ]
  },
  {
   "cell_type": "markdown",
   "metadata": {},
   "source": [
    "## **Load the Elastic Model**\n",
    "\n",
    "This section:\n",
    "\n",
    " - Loads the elastic model npy files\n",
    " - Creates reflectivities fro 0-45 degrees using the above model\n",
    " - Saves the gathers as a npy file"
   ]
  },
  {
   "cell_type": "code",
   "execution_count": null,
   "metadata": {},
   "outputs": [],
   "source": [
    "#   Imports\n",
    "\n",
    "import numpy as np\n",
    "from tqdm import tqdm\n",
    "\n",
    "import bruges as br"
   ]
  },
  {
   "cell_type": "code",
   "execution_count": null,
   "metadata": {},
   "outputs": [],
   "source": [
    "#   Load elastic model parameters and get the array shape\n",
    "\n",
    "Vp = np.load('model/npy/Vp_time_ms.npy')\n",
    "Vs = np.load('model/npy/Vs_time_ms.npy')\n",
    "Rho= np.load('model/npy/Rho_time_kgmcube.npy')\n",
    "\n",
    "shape = np.shape(Vp)\n",
    "shape"
   ]
  },
  {
   "cell_type": "code",
   "execution_count": null,
   "metadata": {},
   "outputs": [],
   "source": [
    "#   Create reflectivity angel gathers for each trace of the model\n",
    "\n",
    "reflectivity = []\n",
    "\n",
    "for i in tqdm(range(shape[0])):\n",
    "    \n",
    "    vp_t = Vp[i,:]\n",
    "    vs_t = Vs[i,:]\n",
    "    rho_t = Rho[i,:]\n",
    "    \n",
    "    gather = br.reflection.reflectivity(vp_t, vs_t, rho_t, theta=range(0,46))\n",
    "    \n",
    "    reflectivity.append(gather)\n",
    "    \n",
    "reflectivity_gathers = np.stack(reflectivity)\n",
    "    "
   ]
  },
  {
   "cell_type": "code",
   "execution_count": null,
   "metadata": {},
   "outputs": [],
   "source": [
    "#   Save to a npy file\n",
    "\n",
    "np.save(arr=reflectivity_gathers, file='reflectivity_gathers')"
   ]
  }
 ],
 "metadata": {
  "kernelspec": {
   "display_name": "Python 3",
   "language": "python",
   "name": "python3"
  },
  "language_info": {
   "codemirror_mode": {
    "name": "ipython",
    "version": 3
   },
   "file_extension": ".py",
   "mimetype": "text/x-python",
   "name": "python",
   "nbconvert_exporter": "python",
   "pygments_lexer": "ipython3",
   "version": "3.6.6"
  }
 },
 "nbformat": 4,
 "nbformat_minor": 2
}
