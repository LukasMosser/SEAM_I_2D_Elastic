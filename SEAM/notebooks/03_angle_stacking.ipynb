{
 "cells": [
  {
   "cell_type": "code",
   "execution_count": 6,
   "metadata": {},
   "outputs": [],
   "source": [
    "import numpy as np\n",
    "\n",
    "path = \"/home/billy/python/SEAM/SEAM/\""
   ]
  },
  {
   "cell_type": "code",
   "execution_count": 7,
   "metadata": {},
   "outputs": [],
   "source": [
    "data = np.load(path + 'data/cvgwavelet_synth.npy')"
   ]
  },
  {
   "cell_type": "code",
   "execution_count": 8,
   "metadata": {},
   "outputs": [
    {
     "data": {
      "text/plain": [
       "(1751, 5000, 46)"
      ]
     },
     "execution_count": 8,
     "metadata": {},
     "output_type": "execute_result"
    }
   ],
   "source": [
    "data.shape"
   ]
  },
  {
   "cell_type": "code",
   "execution_count": 9,
   "metadata": {},
   "outputs": [],
   "source": [
    "def stack(gathers,min,max):\n",
    "    \n",
    "    sum = data[:,:,min:max]\n",
    "    sum = np.sum(sum, axis=2)\n",
    "    sum = sum / (max-min)\n",
    "    \n",
    "    return sum\n",
    "    "
   ]
  },
  {
   "cell_type": "code",
   "execution_count": 10,
   "metadata": {},
   "outputs": [],
   "source": [
    "near = stack(data, 5, 15)\n",
    "mid = stack(data, 15, 25)\n",
    "far = stack(data, 25, 35)\n",
    "ufar = stack(data, 35, 45)"
   ]
  },
  {
   "cell_type": "code",
   "execution_count": 11,
   "metadata": {},
   "outputs": [
    {
     "name": "stdout",
     "output_type": "stream",
     "text": [
      "1 of 4\n",
      "2 of 4\n",
      "3 of 4\n",
      "4 of 4\n",
      "done\n"
     ]
    }
   ],
   "source": [
    "print('1 of 4')\n",
    "np.savetxt(X=near, fname=path + 'data/cvgwavelet_near_05-15')\n",
    "print('2 of 4')\n",
    "np.savetxt(X=mid, fname=path + 'data/cvgwavelet_mid_15-25')\n",
    "print('3 of 4')\n",
    "np.savetxt(X=far, fname=path + 'data/cvgwavelet_far_25-35')\n",
    "print('4 of 4')\n",
    "np.savetxt(X=ufar, fname=path + 'data/cvgwavelet_ufar_35-45')\n",
    "print('done')"
   ]
  },
  {
   "cell_type": "code",
   "execution_count": null,
   "metadata": {},
   "outputs": [],
   "source": []
  },
  {
   "cell_type": "code",
   "execution_count": null,
   "metadata": {},
   "outputs": [],
   "source": []
  }
 ],
 "metadata": {
  "kernelspec": {
   "display_name": "Python 3",
   "language": "python",
   "name": "python3"
  },
  "language_info": {
   "codemirror_mode": {
    "name": "ipython",
    "version": 3
   },
   "file_extension": ".py",
   "mimetype": "text/x-python",
   "name": "python",
   "nbconvert_exporter": "python",
   "pygments_lexer": "ipython3",
   "version": "3.6.6"
  }
 },
 "nbformat": 4,
 "nbformat_minor": 2
}
